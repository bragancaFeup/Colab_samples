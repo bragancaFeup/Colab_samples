{
  "nbformat": 4,
  "nbformat_minor": 0,
  "metadata": {
    "colab": {
      "name": "Link.ipynb",
      "provenance": [],
      "authorship_tag": "ABX9TyM2pJpWutgg/ZYJfOiDmnhT",
      "include_colab_link": true
    },
    "kernelspec": {
      "name": "python3",
      "display_name": "Python 3"
    }
  },
  "cells": [
    {
      "cell_type": "markdown",
      "metadata": {
        "id": "view-in-github",
        "colab_type": "text"
      },
      "source": [
        "<a href=\"https://colab.research.google.com/github/bragancaFeup/Colab_samples/blob/master/Notebooks/Link.ipynb\" target=\"_parent\"><img src=\"https://colab.research.google.com/assets/colab-badge.svg\" alt=\"Open In Colab\"/></a>"
      ]
    },
    {
      "cell_type": "markdown",
      "metadata": {
        "id": "kbPI-dbX4des",
        "colab_type": "text"
      },
      "source": [
        "Link para fonte\n",
        "\n",
        "https://drive.google.com/drive/folders/1XHKlwJjLSC1OvoNUmU5E8_vNPPXiej9z?usp=sharing\n"
      ]
    },
    {
      "cell_type": "code",
      "metadata": {
        "id": "InIQHApw4ciy",
        "colab_type": "code",
        "colab": {}
      },
      "source": [
        ""
      ],
      "execution_count": null,
      "outputs": []
    }
  ]
}