{
  "nbformat": 4,
  "nbformat_minor": 0,
  "metadata": {
    "colab": {
      "name": "Link.ipynb",
      "provenance": [],
      "authorship_tag": "ABX9TyP31sdutxrMroh/ET+mBeAD"
    },
    "kernelspec": {
      "name": "python3",
      "display_name": "Python 3"
    }
  },
  "cells": [
    {
      "cell_type": "markdown",
      "metadata": {
        "id": "kbPI-dbX4des",
        "colab_type": "text"
      },
      "source": [
        "Link para fonte\n",
        "\n",
        "https://colab.research.google.com/drive/1b6WdO58uRHsi2w0mY668smS6jDfhvzk1?usp=sharing\n"
      ]
    },
    {
      "cell_type": "code",
      "metadata": {
        "id": "InIQHApw4ciy",
        "colab_type": "code",
        "colab": {}
      },
      "source": [
        ""
      ],
      "execution_count": null,
      "outputs": []
    }
  ]
}